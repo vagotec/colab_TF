{
  "nbformat": 4,
  "nbformat_minor": 0,
  "metadata": {
    "colab": {
      "provenance": [],
      "include_colab_link": true
    },
    "kernelspec": {
      "name": "python3",
      "display_name": "Python 3"
    },
    "language_info": {
      "name": "python"
    },
    "widgets": {
      "application/vnd.jupyter.widget-state+json": {
        "7188e40c9c3e4a60aa3cfc4628565e98": {
          "model_module": "@jupyter-widgets/controls",
          "model_name": "HBoxModel",
          "model_module_version": "1.5.0",
          "state": {
            "_dom_classes": [],
            "_model_module": "@jupyter-widgets/controls",
            "_model_module_version": "1.5.0",
            "_model_name": "HBoxModel",
            "_view_count": null,
            "_view_module": "@jupyter-widgets/controls",
            "_view_module_version": "1.5.0",
            "_view_name": "HBoxView",
            "box_style": "",
            "children": [
              "IPY_MODEL_311670e8ada84362b88b7b7ddbafb492",
              "IPY_MODEL_a18eefaef47f46228d28ed61072d7e89",
              "IPY_MODEL_6f3eb35daebd42ec9cf97fdcc4e80654"
            ],
            "layout": "IPY_MODEL_c125c257524a472bb2d4820e7a60e3ea"
          }
        },
        "311670e8ada84362b88b7b7ddbafb492": {
          "model_module": "@jupyter-widgets/controls",
          "model_name": "HTMLModel",
          "model_module_version": "1.5.0",
          "state": {
            "_dom_classes": [],
            "_model_module": "@jupyter-widgets/controls",
            "_model_module_version": "1.5.0",
            "_model_name": "HTMLModel",
            "_view_count": null,
            "_view_module": "@jupyter-widgets/controls",
            "_view_module_version": "1.5.0",
            "_view_name": "HTMLView",
            "description": "",
            "description_tooltip": null,
            "layout": "IPY_MODEL_abb8e3a793954adb82d2a96b06a8400f",
            "placeholder": "​",
            "style": "IPY_MODEL_66e6725f4d1e450f932c76514e99d5e0",
            "value": "100%"
          }
        },
        "a18eefaef47f46228d28ed61072d7e89": {
          "model_module": "@jupyter-widgets/controls",
          "model_name": "FloatProgressModel",
          "model_module_version": "1.5.0",
          "state": {
            "_dom_classes": [],
            "_model_module": "@jupyter-widgets/controls",
            "_model_module_version": "1.5.0",
            "_model_name": "FloatProgressModel",
            "_view_count": null,
            "_view_module": "@jupyter-widgets/controls",
            "_view_module_version": "1.5.0",
            "_view_name": "ProgressView",
            "bar_style": "success",
            "description": "",
            "description_tooltip": null,
            "layout": "IPY_MODEL_19a73a84cd6842649853546d06220a4d",
            "max": 170498071,
            "min": 0,
            "orientation": "horizontal",
            "style": "IPY_MODEL_d67e79a8b5154e53852bc024b56289d1",
            "value": 170498071
          }
        },
        "6f3eb35daebd42ec9cf97fdcc4e80654": {
          "model_module": "@jupyter-widgets/controls",
          "model_name": "HTMLModel",
          "model_module_version": "1.5.0",
          "state": {
            "_dom_classes": [],
            "_model_module": "@jupyter-widgets/controls",
            "_model_module_version": "1.5.0",
            "_model_name": "HTMLModel",
            "_view_count": null,
            "_view_module": "@jupyter-widgets/controls",
            "_view_module_version": "1.5.0",
            "_view_name": "HTMLView",
            "description": "",
            "description_tooltip": null,
            "layout": "IPY_MODEL_2bf730435ebc44c4ba46e8ba6bb3f23b",
            "placeholder": "​",
            "style": "IPY_MODEL_5c521b2a68b048179b56c3b08c49e5d3",
            "value": " 170498071/170498071 [00:02&lt;00:00, 64817149.13it/s]"
          }
        },
        "c125c257524a472bb2d4820e7a60e3ea": {
          "model_module": "@jupyter-widgets/base",
          "model_name": "LayoutModel",
          "model_module_version": "1.2.0",
          "state": {
            "_model_module": "@jupyter-widgets/base",
            "_model_module_version": "1.2.0",
            "_model_name": "LayoutModel",
            "_view_count": null,
            "_view_module": "@jupyter-widgets/base",
            "_view_module_version": "1.2.0",
            "_view_name": "LayoutView",
            "align_content": null,
            "align_items": null,
            "align_self": null,
            "border": null,
            "bottom": null,
            "display": null,
            "flex": null,
            "flex_flow": null,
            "grid_area": null,
            "grid_auto_columns": null,
            "grid_auto_flow": null,
            "grid_auto_rows": null,
            "grid_column": null,
            "grid_gap": null,
            "grid_row": null,
            "grid_template_areas": null,
            "grid_template_columns": null,
            "grid_template_rows": null,
            "height": null,
            "justify_content": null,
            "justify_items": null,
            "left": null,
            "margin": null,
            "max_height": null,
            "max_width": null,
            "min_height": null,
            "min_width": null,
            "object_fit": null,
            "object_position": null,
            "order": null,
            "overflow": null,
            "overflow_x": null,
            "overflow_y": null,
            "padding": null,
            "right": null,
            "top": null,
            "visibility": null,
            "width": null
          }
        },
        "abb8e3a793954adb82d2a96b06a8400f": {
          "model_module": "@jupyter-widgets/base",
          "model_name": "LayoutModel",
          "model_module_version": "1.2.0",
          "state": {
            "_model_module": "@jupyter-widgets/base",
            "_model_module_version": "1.2.0",
            "_model_name": "LayoutModel",
            "_view_count": null,
            "_view_module": "@jupyter-widgets/base",
            "_view_module_version": "1.2.0",
            "_view_name": "LayoutView",
            "align_content": null,
            "align_items": null,
            "align_self": null,
            "border": null,
            "bottom": null,
            "display": null,
            "flex": null,
            "flex_flow": null,
            "grid_area": null,
            "grid_auto_columns": null,
            "grid_auto_flow": null,
            "grid_auto_rows": null,
            "grid_column": null,
            "grid_gap": null,
            "grid_row": null,
            "grid_template_areas": null,
            "grid_template_columns": null,
            "grid_template_rows": null,
            "height": null,
            "justify_content": null,
            "justify_items": null,
            "left": null,
            "margin": null,
            "max_height": null,
            "max_width": null,
            "min_height": null,
            "min_width": null,
            "object_fit": null,
            "object_position": null,
            "order": null,
            "overflow": null,
            "overflow_x": null,
            "overflow_y": null,
            "padding": null,
            "right": null,
            "top": null,
            "visibility": null,
            "width": null
          }
        },
        "66e6725f4d1e450f932c76514e99d5e0": {
          "model_module": "@jupyter-widgets/controls",
          "model_name": "DescriptionStyleModel",
          "model_module_version": "1.5.0",
          "state": {
            "_model_module": "@jupyter-widgets/controls",
            "_model_module_version": "1.5.0",
            "_model_name": "DescriptionStyleModel",
            "_view_count": null,
            "_view_module": "@jupyter-widgets/base",
            "_view_module_version": "1.2.0",
            "_view_name": "StyleView",
            "description_width": ""
          }
        },
        "19a73a84cd6842649853546d06220a4d": {
          "model_module": "@jupyter-widgets/base",
          "model_name": "LayoutModel",
          "model_module_version": "1.2.0",
          "state": {
            "_model_module": "@jupyter-widgets/base",
            "_model_module_version": "1.2.0",
            "_model_name": "LayoutModel",
            "_view_count": null,
            "_view_module": "@jupyter-widgets/base",
            "_view_module_version": "1.2.0",
            "_view_name": "LayoutView",
            "align_content": null,
            "align_items": null,
            "align_self": null,
            "border": null,
            "bottom": null,
            "display": null,
            "flex": null,
            "flex_flow": null,
            "grid_area": null,
            "grid_auto_columns": null,
            "grid_auto_flow": null,
            "grid_auto_rows": null,
            "grid_column": null,
            "grid_gap": null,
            "grid_row": null,
            "grid_template_areas": null,
            "grid_template_columns": null,
            "grid_template_rows": null,
            "height": null,
            "justify_content": null,
            "justify_items": null,
            "left": null,
            "margin": null,
            "max_height": null,
            "max_width": null,
            "min_height": null,
            "min_width": null,
            "object_fit": null,
            "object_position": null,
            "order": null,
            "overflow": null,
            "overflow_x": null,
            "overflow_y": null,
            "padding": null,
            "right": null,
            "top": null,
            "visibility": null,
            "width": null
          }
        },
        "d67e79a8b5154e53852bc024b56289d1": {
          "model_module": "@jupyter-widgets/controls",
          "model_name": "ProgressStyleModel",
          "model_module_version": "1.5.0",
          "state": {
            "_model_module": "@jupyter-widgets/controls",
            "_model_module_version": "1.5.0",
            "_model_name": "ProgressStyleModel",
            "_view_count": null,
            "_view_module": "@jupyter-widgets/base",
            "_view_module_version": "1.2.0",
            "_view_name": "StyleView",
            "bar_color": null,
            "description_width": ""
          }
        },
        "2bf730435ebc44c4ba46e8ba6bb3f23b": {
          "model_module": "@jupyter-widgets/base",
          "model_name": "LayoutModel",
          "model_module_version": "1.2.0",
          "state": {
            "_model_module": "@jupyter-widgets/base",
            "_model_module_version": "1.2.0",
            "_model_name": "LayoutModel",
            "_view_count": null,
            "_view_module": "@jupyter-widgets/base",
            "_view_module_version": "1.2.0",
            "_view_name": "LayoutView",
            "align_content": null,
            "align_items": null,
            "align_self": null,
            "border": null,
            "bottom": null,
            "display": null,
            "flex": null,
            "flex_flow": null,
            "grid_area": null,
            "grid_auto_columns": null,
            "grid_auto_flow": null,
            "grid_auto_rows": null,
            "grid_column": null,
            "grid_gap": null,
            "grid_row": null,
            "grid_template_areas": null,
            "grid_template_columns": null,
            "grid_template_rows": null,
            "height": null,
            "justify_content": null,
            "justify_items": null,
            "left": null,
            "margin": null,
            "max_height": null,
            "max_width": null,
            "min_height": null,
            "min_width": null,
            "object_fit": null,
            "object_position": null,
            "order": null,
            "overflow": null,
            "overflow_x": null,
            "overflow_y": null,
            "padding": null,
            "right": null,
            "top": null,
            "visibility": null,
            "width": null
          }
        },
        "5c521b2a68b048179b56c3b08c49e5d3": {
          "model_module": "@jupyter-widgets/controls",
          "model_name": "DescriptionStyleModel",
          "model_module_version": "1.5.0",
          "state": {
            "_model_module": "@jupyter-widgets/controls",
            "_model_module_version": "1.5.0",
            "_model_name": "DescriptionStyleModel",
            "_view_count": null,
            "_view_module": "@jupyter-widgets/base",
            "_view_module_version": "1.2.0",
            "_view_name": "StyleView",
            "description_width": ""
          }
        },
        "09f000f929df4ab8b8ee9d4fa08f03e2": {
          "model_module": "@jupyter-widgets/controls",
          "model_name": "HBoxModel",
          "model_module_version": "1.5.0",
          "state": {
            "_dom_classes": [],
            "_model_module": "@jupyter-widgets/controls",
            "_model_module_version": "1.5.0",
            "_model_name": "HBoxModel",
            "_view_count": null,
            "_view_module": "@jupyter-widgets/controls",
            "_view_module_version": "1.5.0",
            "_view_name": "HBoxView",
            "box_style": "",
            "children": [
              "IPY_MODEL_bc6d9bf5befb46e8b2eed72fb80fad4c",
              "IPY_MODEL_ef0e55a173b540b1a4edefc467c48d0f",
              "IPY_MODEL_a2fb80daf1a54291ab91918c8f541cc5"
            ],
            "layout": "IPY_MODEL_8fccd29d62be4f1db52ba06681df44ed"
          }
        },
        "bc6d9bf5befb46e8b2eed72fb80fad4c": {
          "model_module": "@jupyter-widgets/controls",
          "model_name": "HTMLModel",
          "model_module_version": "1.5.0",
          "state": {
            "_dom_classes": [],
            "_model_module": "@jupyter-widgets/controls",
            "_model_module_version": "1.5.0",
            "_model_name": "HTMLModel",
            "_view_count": null,
            "_view_module": "@jupyter-widgets/controls",
            "_view_module_version": "1.5.0",
            "_view_name": "HTMLView",
            "description": "",
            "description_tooltip": null,
            "layout": "IPY_MODEL_c6ca263a604f49d6ba0e6d592d3ba439",
            "placeholder": "​",
            "style": "IPY_MODEL_94a602c11c274433887625fc62b3f537",
            "value": "100%"
          }
        },
        "ef0e55a173b540b1a4edefc467c48d0f": {
          "model_module": "@jupyter-widgets/controls",
          "model_name": "FloatProgressModel",
          "model_module_version": "1.5.0",
          "state": {
            "_dom_classes": [],
            "_model_module": "@jupyter-widgets/controls",
            "_model_module_version": "1.5.0",
            "_model_name": "FloatProgressModel",
            "_view_count": null,
            "_view_module": "@jupyter-widgets/controls",
            "_view_module_version": "1.5.0",
            "_view_name": "ProgressView",
            "bar_style": "success",
            "description": "",
            "description_tooltip": null,
            "layout": "IPY_MODEL_fb52dddf0bd6482e949c4e4f42f476c5",
            "max": 170498071,
            "min": 0,
            "orientation": "horizontal",
            "style": "IPY_MODEL_df3aa18be2ec4986bd504210eed360cd",
            "value": 170498071
          }
        },
        "a2fb80daf1a54291ab91918c8f541cc5": {
          "model_module": "@jupyter-widgets/controls",
          "model_name": "HTMLModel",
          "model_module_version": "1.5.0",
          "state": {
            "_dom_classes": [],
            "_model_module": "@jupyter-widgets/controls",
            "_model_module_version": "1.5.0",
            "_model_name": "HTMLModel",
            "_view_count": null,
            "_view_module": "@jupyter-widgets/controls",
            "_view_module_version": "1.5.0",
            "_view_name": "HTMLView",
            "description": "",
            "description_tooltip": null,
            "layout": "IPY_MODEL_da52141e869b46dfbb4143ddd3e685d3",
            "placeholder": "​",
            "style": "IPY_MODEL_ea28d9a17e8b41cda63ac8ec4125c4d1",
            "value": " 170498071/170498071 [00:02&lt;00:00, 84943467.94it/s]"
          }
        },
        "8fccd29d62be4f1db52ba06681df44ed": {
          "model_module": "@jupyter-widgets/base",
          "model_name": "LayoutModel",
          "model_module_version": "1.2.0",
          "state": {
            "_model_module": "@jupyter-widgets/base",
            "_model_module_version": "1.2.0",
            "_model_name": "LayoutModel",
            "_view_count": null,
            "_view_module": "@jupyter-widgets/base",
            "_view_module_version": "1.2.0",
            "_view_name": "LayoutView",
            "align_content": null,
            "align_items": null,
            "align_self": null,
            "border": null,
            "bottom": null,
            "display": null,
            "flex": null,
            "flex_flow": null,
            "grid_area": null,
            "grid_auto_columns": null,
            "grid_auto_flow": null,
            "grid_auto_rows": null,
            "grid_column": null,
            "grid_gap": null,
            "grid_row": null,
            "grid_template_areas": null,
            "grid_template_columns": null,
            "grid_template_rows": null,
            "height": null,
            "justify_content": null,
            "justify_items": null,
            "left": null,
            "margin": null,
            "max_height": null,
            "max_width": null,
            "min_height": null,
            "min_width": null,
            "object_fit": null,
            "object_position": null,
            "order": null,
            "overflow": null,
            "overflow_x": null,
            "overflow_y": null,
            "padding": null,
            "right": null,
            "top": null,
            "visibility": null,
            "width": null
          }
        },
        "c6ca263a604f49d6ba0e6d592d3ba439": {
          "model_module": "@jupyter-widgets/base",
          "model_name": "LayoutModel",
          "model_module_version": "1.2.0",
          "state": {
            "_model_module": "@jupyter-widgets/base",
            "_model_module_version": "1.2.0",
            "_model_name": "LayoutModel",
            "_view_count": null,
            "_view_module": "@jupyter-widgets/base",
            "_view_module_version": "1.2.0",
            "_view_name": "LayoutView",
            "align_content": null,
            "align_items": null,
            "align_self": null,
            "border": null,
            "bottom": null,
            "display": null,
            "flex": null,
            "flex_flow": null,
            "grid_area": null,
            "grid_auto_columns": null,
            "grid_auto_flow": null,
            "grid_auto_rows": null,
            "grid_column": null,
            "grid_gap": null,
            "grid_row": null,
            "grid_template_areas": null,
            "grid_template_columns": null,
            "grid_template_rows": null,
            "height": null,
            "justify_content": null,
            "justify_items": null,
            "left": null,
            "margin": null,
            "max_height": null,
            "max_width": null,
            "min_height": null,
            "min_width": null,
            "object_fit": null,
            "object_position": null,
            "order": null,
            "overflow": null,
            "overflow_x": null,
            "overflow_y": null,
            "padding": null,
            "right": null,
            "top": null,
            "visibility": null,
            "width": null
          }
        },
        "94a602c11c274433887625fc62b3f537": {
          "model_module": "@jupyter-widgets/controls",
          "model_name": "DescriptionStyleModel",
          "model_module_version": "1.5.0",
          "state": {
            "_model_module": "@jupyter-widgets/controls",
            "_model_module_version": "1.5.0",
            "_model_name": "DescriptionStyleModel",
            "_view_count": null,
            "_view_module": "@jupyter-widgets/base",
            "_view_module_version": "1.2.0",
            "_view_name": "StyleView",
            "description_width": ""
          }
        },
        "fb52dddf0bd6482e949c4e4f42f476c5": {
          "model_module": "@jupyter-widgets/base",
          "model_name": "LayoutModel",
          "model_module_version": "1.2.0",
          "state": {
            "_model_module": "@jupyter-widgets/base",
            "_model_module_version": "1.2.0",
            "_model_name": "LayoutModel",
            "_view_count": null,
            "_view_module": "@jupyter-widgets/base",
            "_view_module_version": "1.2.0",
            "_view_name": "LayoutView",
            "align_content": null,
            "align_items": null,
            "align_self": null,
            "border": null,
            "bottom": null,
            "display": null,
            "flex": null,
            "flex_flow": null,
            "grid_area": null,
            "grid_auto_columns": null,
            "grid_auto_flow": null,
            "grid_auto_rows": null,
            "grid_column": null,
            "grid_gap": null,
            "grid_row": null,
            "grid_template_areas": null,
            "grid_template_columns": null,
            "grid_template_rows": null,
            "height": null,
            "justify_content": null,
            "justify_items": null,
            "left": null,
            "margin": null,
            "max_height": null,
            "max_width": null,
            "min_height": null,
            "min_width": null,
            "object_fit": null,
            "object_position": null,
            "order": null,
            "overflow": null,
            "overflow_x": null,
            "overflow_y": null,
            "padding": null,
            "right": null,
            "top": null,
            "visibility": null,
            "width": null
          }
        },
        "df3aa18be2ec4986bd504210eed360cd": {
          "model_module": "@jupyter-widgets/controls",
          "model_name": "ProgressStyleModel",
          "model_module_version": "1.5.0",
          "state": {
            "_model_module": "@jupyter-widgets/controls",
            "_model_module_version": "1.5.0",
            "_model_name": "ProgressStyleModel",
            "_view_count": null,
            "_view_module": "@jupyter-widgets/base",
            "_view_module_version": "1.2.0",
            "_view_name": "StyleView",
            "bar_color": null,
            "description_width": ""
          }
        },
        "da52141e869b46dfbb4143ddd3e685d3": {
          "model_module": "@jupyter-widgets/base",
          "model_name": "LayoutModel",
          "model_module_version": "1.2.0",
          "state": {
            "_model_module": "@jupyter-widgets/base",
            "_model_module_version": "1.2.0",
            "_model_name": "LayoutModel",
            "_view_count": null,
            "_view_module": "@jupyter-widgets/base",
            "_view_module_version": "1.2.0",
            "_view_name": "LayoutView",
            "align_content": null,
            "align_items": null,
            "align_self": null,
            "border": null,
            "bottom": null,
            "display": null,
            "flex": null,
            "flex_flow": null,
            "grid_area": null,
            "grid_auto_columns": null,
            "grid_auto_flow": null,
            "grid_auto_rows": null,
            "grid_column": null,
            "grid_gap": null,
            "grid_row": null,
            "grid_template_areas": null,
            "grid_template_columns": null,
            "grid_template_rows": null,
            "height": null,
            "justify_content": null,
            "justify_items": null,
            "left": null,
            "margin": null,
            "max_height": null,
            "max_width": null,
            "min_height": null,
            "min_width": null,
            "object_fit": null,
            "object_position": null,
            "order": null,
            "overflow": null,
            "overflow_x": null,
            "overflow_y": null,
            "padding": null,
            "right": null,
            "top": null,
            "visibility": null,
            "width": null
          }
        },
        "ea28d9a17e8b41cda63ac8ec4125c4d1": {
          "model_module": "@jupyter-widgets/controls",
          "model_name": "DescriptionStyleModel",
          "model_module_version": "1.5.0",
          "state": {
            "_model_module": "@jupyter-widgets/controls",
            "_model_module_version": "1.5.0",
            "_model_name": "DescriptionStyleModel",
            "_view_count": null,
            "_view_module": "@jupyter-widgets/base",
            "_view_module_version": "1.2.0",
            "_view_name": "StyleView",
            "description_width": ""
          }
        }
      }
    }
  },
  "cells": [
    {
      "cell_type": "markdown",
      "metadata": {
        "id": "view-in-github",
        "colab_type": "text"
      },
      "source": [
        "<a href=\"https://colab.research.google.com/github/vagotec/colab_TF/blob/main/Full_Code_ChatGPT_A_Beginner's_Guide_to_Computer_Vision_with%C2%A0PyTorch.ipynb\" target=\"_parent\"><img src=\"https://colab.research.google.com/assets/colab-badge.svg\" alt=\"Open In Colab\"/></a>"
      ]
    },
    {
      "cell_type": "markdown",
      "source": [
        "# Creating the Dataset"
      ],
      "metadata": {
        "id": "v5R9TUpXmAwc"
      }
    },
    {
      "cell_type": "code",
      "execution_count": null,
      "metadata": {
        "id": "InS9aFkUtXz4"
      },
      "outputs": [],
      "source": [
        "import torch\n",
        "from torchvision import datasets, transforms\n",
        "from torch.utils.data import Dataset\n",
        "\n",
        "\n",
        "class MyDataset(Dataset):\n",
        "    def __init__(self, data_dir):\n",
        "        # Load the CIFAR-10 dataset\n",
        "        dataset = datasets.CIFAR10(data_dir, train=True, download=True,\n",
        "                                transform=transforms.Compose([\n",
        "                                    transforms.ToTensor(),\n",
        "                                    transforms.Normalize((0.5, 0.5, 0.5),\n",
        "                                                        (0.5, 0.5, 0.5))\n",
        "                                ]))\n",
        "\n",
        "        # Split the dataset into training and validation sets\n",
        "        self.train_data, self.val_data = torch.utils.data.random_split(dataset, [40000, 10000])\n",
        "\n",
        "    def __getitem__(self, index):\n",
        "        # Return the data and labels for the specified index\n",
        "        if index < len(self.train_data):\n",
        "            data, labels = self.train_data[index]\n",
        "        else:\n",
        "            data, labels = self.val_data[index - len(self.train_data)]\n",
        "        return data, labels\n",
        "\n",
        "    def __len__(self):\n",
        "        # Return the number of data samples\n",
        "        return len(self.train_data) + len(self.val_data)\n",
        "\n",
        "class MyTestDataset(Dataset):\n",
        "    def __init__(self, data_dir):\n",
        "        # Load the CIFAR-10 dataset\n",
        "        self.test_data = datasets.CIFAR10(data_dir, train=False, download=True,\n",
        "                                transform=transforms.Compose([\n",
        "                                    transforms.ToTensor(),\n",
        "                                    transforms.Normalize((0.5, 0.5, 0.5),\n",
        "                                                        (0.5, 0.5, 0.5))\n",
        "                                ]))\n",
        "\n",
        "    def __getitem__(self, index):\n",
        "        # Return the data and labels for the specified index\n",
        "        data, labels = self.test_data[index]\n",
        "        return data, labels\n",
        "\n",
        "    def __len__(self):\n",
        "        # Return the number of data samples\n",
        "        return len(self.test_data)"
      ]
    },
    {
      "cell_type": "code",
      "source": [
        "from torch.utils.data import DataLoader\n",
        "\n",
        "# Create the dataset\n",
        "train_val_dataset = MyDataset(\"my_datadir\")\n",
        "\n",
        "# Create the dataloader\n",
        "train_dataloader = DataLoader(train_val_dataset.train_data, batch_size=32, shuffle=True)\n",
        "val_dataloader = DataLoader(train_val_dataset.val_data, batch_size=32)"
      ],
      "metadata": {
        "colab": {
          "base_uri": "https://localhost:8080/",
          "height": 84,
          "referenced_widgets": [
            "7188e40c9c3e4a60aa3cfc4628565e98",
            "311670e8ada84362b88b7b7ddbafb492",
            "a18eefaef47f46228d28ed61072d7e89",
            "6f3eb35daebd42ec9cf97fdcc4e80654",
            "c125c257524a472bb2d4820e7a60e3ea",
            "abb8e3a793954adb82d2a96b06a8400f",
            "66e6725f4d1e450f932c76514e99d5e0",
            "19a73a84cd6842649853546d06220a4d",
            "d67e79a8b5154e53852bc024b56289d1",
            "2bf730435ebc44c4ba46e8ba6bb3f23b",
            "5c521b2a68b048179b56c3b08c49e5d3"
          ]
        },
        "id": "57NhH_d2thiy",
        "outputId": "48cfdaef-7530-4f9b-c21b-50e021811f97"
      },
      "execution_count": null,
      "outputs": [
        {
          "output_type": "stream",
          "name": "stdout",
          "text": [
            "Downloading https://www.cs.toronto.edu/~kriz/cifar-10-python.tar.gz to my_datadir/cifar-10-python.tar.gz\n"
          ]
        },
        {
          "output_type": "display_data",
          "data": {
            "text/plain": [
              "  0%|          | 0/170498071 [00:00<?, ?it/s]"
            ],
            "application/vnd.jupyter.widget-view+json": {
              "version_major": 2,
              "version_minor": 0,
              "model_id": "7188e40c9c3e4a60aa3cfc4628565e98"
            }
          },
          "metadata": {}
        },
        {
          "output_type": "stream",
          "name": "stdout",
          "text": [
            "Extracting my_datadir/cifar-10-python.tar.gz to my_datadir\n"
          ]
        }
      ]
    },
    {
      "cell_type": "markdown",
      "source": [
        "# Creating the Network Architecture"
      ],
      "metadata": {
        "id": "kvUoDrtsmF_A"
      }
    },
    {
      "cell_type": "code",
      "source": [
        "import torch.nn as nn\n",
        "import torch.nn.functional as F\n",
        "\n",
        "# Define the network architecture\n",
        "class MyCNN(nn.Module):\n",
        "  def __init__(self):\n",
        "    super(MyCNN, self).__init__()\n",
        "\n",
        "    self.conv1 = nn.Conv2d(3, 32, kernel_size=3, padding=1)\n",
        "    self.conv2 = nn.Conv2d(32, 64, kernel_size=3, padding=1)\n",
        "    self.pool = nn.MaxPool2d(2, 2)\n",
        "    self.fc1 = nn.Linear(64 * 8 * 8, 32)\n",
        "    self.fc2 = nn.Linear(32, 10)\n",
        "    self.dropout = nn.Dropout(0.25)\n",
        "\n",
        "  def forward(self, x):\n",
        "    x = self.pool(F.relu(self.conv1(x)))\n",
        "    x = self.pool(F.relu(self.conv2(x)))\n",
        "    x = x.view(-1, 64 * 8 * 8)\n",
        "    x = F.relu(self.fc1(x))\n",
        "    x = self.dropout(x)\n",
        "    x = self.fc2(x)\n",
        "    return x"
      ],
      "metadata": {
        "id": "yEa5fMtmtkko"
      },
      "execution_count": null,
      "outputs": []
    },
    {
      "cell_type": "markdown",
      "source": [
        "# Training the Network"
      ],
      "metadata": {
        "id": "VrRqmUrfmIxH"
      }
    },
    {
      "cell_type": "code",
      "source": [
        "num_epochs=3\n",
        "\n",
        "# Initialize the network\n",
        "model = MyCNN()\n",
        "\n",
        "# Define the loss function and optimizer\n",
        "criterion = torch.nn.CrossEntropyLoss()\n",
        "optimizer = torch.optim.Adam(model.parameters(), lr=0.001)\n",
        "\n",
        "# Use a learning rate scheduler to reduce the learning rate over time\n",
        "scheduler = torch.optim.lr_scheduler.ReduceLROnPlateau(optimizer, patience=5, verbose=True)\n",
        "\n",
        "# Train the network\n",
        "for epoch in range(num_epochs):\n",
        "  train_loss = 0.0\n",
        "  train_accuracy = 0.0\n",
        "\n",
        "  # Train the network on the training set\n",
        "  for inputs, labels in train_dataloader:\n",
        "    # Clear the gradients\n",
        "    optimizer.zero_grad()\n",
        "\n",
        "    # Forward pass\n",
        "    outputs = model(inputs)\n",
        "\n",
        "    # Compute the loss\n",
        "    loss = criterion(outputs, labels)\n",
        "\n",
        "    # Backward pass\n",
        "    loss.backward()\n",
        "\n",
        "    # Update the weights\n",
        "    optimizer.step()\n",
        "\n",
        "    # Update the training loss and accuracy\n",
        "    train_loss += loss.item() * inputs.size(0)\n",
        "    train_accuracy += torch.sum(torch.argmax(outputs, dim=1) == labels)\n",
        "\n",
        "  # Compute the average training loss and accuracy\n",
        "  train_loss = train_loss / len(train_val_dataset.train_data)\n",
        "  train_accuracy = train_accuracy.double() / len(train_val_dataset.train_data)\n",
        "\n",
        "\n",
        "  # Validate the network on the validation set\n",
        "  validation_loss = 0.0\n",
        "  validation_accuracy = 0.0\n",
        "\n",
        "  with torch.no_grad():\n",
        "    for inputs, labels in val_dataloader:\n",
        "      outputs = model(inputs)\n",
        "      # Compute the loss\n",
        "      loss = criterion(outputs, labels)\n",
        "\n",
        "      # Update the validation loss and accuracy\n",
        "      validation_loss += loss.item() * inputs.size(0)\n",
        "      validation_accuracy += torch.sum(torch.argmax(outputs, dim=1) == labels)\n",
        "\n",
        "  # Compute the average validation loss and accuracy\n",
        "  validation_loss = validation_loss / len(train_val_dataset.val_data)\n",
        "  validation_accuracy = validation_accuracy.double() / len(train_val_dataset.val_data)\n",
        "\n",
        "  # Update the learning rate\n",
        "  scheduler.step(validation_loss)\n",
        "\n",
        "  # Log the training and validation performance\n",
        "  print(f'Epoch {epoch + 1}/{num_epochs}:')\n",
        "  print(f'Training Loss: {train_loss:.4f} - Training Accuracy: {train_accuracy:.4f}')\n",
        "  print(f'Validation Loss: {validation_loss:.4f} - Validation Accuracy: {validation_accuracy:.4f}')"
      ],
      "metadata": {
        "colab": {
          "base_uri": "https://localhost:8080/"
        },
        "id": "ffEmQY0tuFWE",
        "outputId": "0c91041f-16d1-4274-99f8-7a025041fddf"
      },
      "execution_count": null,
      "outputs": [
        {
          "output_type": "stream",
          "name": "stdout",
          "text": [
            "Epoch 1/3:\n",
            "Training Loss: 1.5964 - Training Accuracy: 0.4080\n",
            "Validation Loss: 1.3342 - Validation Accuracy: 0.5096\n",
            "Epoch 2/3:\n",
            "Training Loss: 1.2674 - Training Accuracy: 0.5399\n",
            "Validation Loss: 1.2161 - Validation Accuracy: 0.5601\n",
            "Epoch 3/3:\n",
            "Training Loss: 1.1370 - Training Accuracy: 0.5903\n",
            "Validation Loss: 1.1570 - Validation Accuracy: 0.5840\n"
          ]
        }
      ]
    },
    {
      "cell_type": "markdown",
      "source": [
        "# Evaluating the Performance"
      ],
      "metadata": {
        "id": "jjdk29MrmO6v"
      }
    },
    {
      "cell_type": "code",
      "source": [
        "import matplotlib.pyplot as plt\n",
        "import seaborn as sns\n",
        "from sklearn.metrics import precision_score, f1_score, recall_score\n",
        "\n",
        "num_classes = 10\n",
        "\n",
        "# Load the test data\n",
        "test_dataset = MyTestDataset(\"my_testdir\")\n",
        "test_dataloader = torch.utils.data.DataLoader(test_dataset, batch_size=32)\n",
        "\n",
        "# Initialize dictionaries to store the results\n",
        "results = {'accuracy': 0.0, 'precision': 0.0, 'recall': 0.0, 'f1': 0.0}\n",
        "confusion_matrix = torch.zeros(num_classes, num_classes)\n",
        "\n",
        "with torch.no_grad():\n",
        "  for inputs, labels in test_dataloader:\n",
        "    outputs = model(inputs)\n",
        "    _, predicted = torch.max(outputs.data, 1)\n",
        "\n",
        "    # Update the confusion matrix\n",
        "    for i in range(inputs.size()[0]):\n",
        "      confusion_matrix[labels[i], predicted[i]] += 1\n",
        "\n",
        "    # Compute the accuracy, precision, recall, and F1 score\n",
        "    results['accuracy'] += torch.sum(predicted == labels)\n",
        "    results['precision'] += precision_score(labels, predicted, average='weighted', zero_division=0)\n",
        "    results['recall'] += recall_score(labels, predicted, average='weighted', zero_division=0)\n",
        "    results['f1'] += f1_score(labels, predicted, average='weighted')\n",
        "\n",
        "# Compute the average accuracy, precision, recall, and F1 score\n",
        "num_test_samples = len(test_dataset)\n",
        "results['accuracy'] /= num_test_samples\n",
        "results['precision'] /= num_test_samples\n",
        "results['recall'] /= num_test_samples\n",
        "results['f1'] /= num_test_samples\n",
        "\n",
        "# Print the results\n",
        "print(f'Accuracy: {results[\"accuracy\"]:.4f}')\n",
        "print(f'Precision: {results[\"precision\"]:.4f}')\n",
        "print(f'Recall: {results[\"recall\"]:.4f}')\n",
        "print(f'F1 Score: {results[\"f1\"]:.4f}')\n",
        "\n",
        "# Print the confusion matrix\n",
        "print('Confusion Matrix:')\n",
        "# Plot the confusion matrix\n",
        "plt.figure(figsize=(12, 12))\n",
        "ax = sns.heatmap(confusion_matrix, annot=True)\n",
        "ax.set_xlabel('Predicted Classes')\n",
        "ax.set_ylabel('True Classes')\n",
        "plt.show()"
      ],
      "metadata": {
        "colab": {
          "base_uri": "https://localhost:8080/",
          "height": 868,
          "referenced_widgets": [
            "09f000f929df4ab8b8ee9d4fa08f03e2",
            "bc6d9bf5befb46e8b2eed72fb80fad4c",
            "ef0e55a173b540b1a4edefc467c48d0f",
            "a2fb80daf1a54291ab91918c8f541cc5",
            "8fccd29d62be4f1db52ba06681df44ed",
            "c6ca263a604f49d6ba0e6d592d3ba439",
            "94a602c11c274433887625fc62b3f537",
            "fb52dddf0bd6482e949c4e4f42f476c5",
            "df3aa18be2ec4986bd504210eed360cd",
            "da52141e869b46dfbb4143ddd3e685d3",
            "ea28d9a17e8b41cda63ac8ec4125c4d1"
          ]
        },
        "id": "1-9_7Rp5xfJi",
        "outputId": "3b203b88-93c7-4580-8967-218c328c8efa"
      },
      "execution_count": null,
      "outputs": [
        {
          "output_type": "stream",
          "name": "stdout",
          "text": [
            "Downloading https://www.cs.toronto.edu/~kriz/cifar-10-python.tar.gz to my_testdir/cifar-10-python.tar.gz\n"
          ]
        },
        {
          "output_type": "display_data",
          "data": {
            "text/plain": [
              "  0%|          | 0/170498071 [00:00<?, ?it/s]"
            ],
            "application/vnd.jupyter.widget-view+json": {
              "version_major": 2,
              "version_minor": 0,
              "model_id": "09f000f929df4ab8b8ee9d4fa08f03e2"
            }
          },
          "metadata": {}
        },
        {
          "output_type": "stream",
          "name": "stdout",
          "text": [
            "Extracting my_testdir/cifar-10-python.tar.gz to my_testdir\n",
            "Accuracy: 0.5885\n",
            "Precision: 0.0202\n",
            "Recall: 0.0184\n",
            "F1 Score: 0.0183\n",
            "Confusion Matrix:\n"
          ]
        },
        {
          "output_type": "display_data",
          "data": {
            "text/plain": [
              "<Figure size 864x864 with 2 Axes>"
            ],
            "image/png": "[encoded data removed]"
          },
          "metadata": {
            "needs_background": "light"
          }
        }
      ]
    },
    {
      "cell_type": "markdown",
      "source": [
        "# Saving the trained Network"
      ],
      "metadata": {
        "id": "CpDzDIN-mRtQ"
      }
    },
    {
      "cell_type": "code",
      "source": [
        "# Save the entire model to a file\n",
        "torch.save(model, 'my_model.pt')"
      ],
      "metadata": {
        "id": "-AfO_gCQ5D5x"
      },
      "execution_count": null,
      "outputs": []
    },
    {
      "cell_type": "code",
      "source": [],
      "metadata": {
        "id": "tH-PkhG-ABQH"
      },
      "execution_count": null,
      "outputs": []
    }
  ]
}